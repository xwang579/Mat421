{
  "metadata": {
    "language_info": {
      "codemirror_mode": {
        "name": "python",
        "version": 3
      },
      "file_extension": ".py",
      "mimetype": "text/x-python",
      "name": "python",
      "nbconvert_exporter": "python",
      "pygments_lexer": "ipython3",
      "version": "3.8"
    },
    "kernelspec": {
      "name": "python",
      "display_name": "Python (Pyodide)",
      "language": "python"
    }
  },
  "nbformat_minor": 4,
  "nbformat": 4,
  "cells": [
    {
      "cell_type": "markdown",
      "source": "Chapter 9. Representation of Numbers\n\n#9.1 Base-N and Binary\n\n\n",
      "metadata": {}
    },
    {
      "cell_type": "code",
      "source": "bin(39)",
      "metadata": {
        "trusted": true
      },
      "execution_count": 1,
      "outputs": [
        {
          "execution_count": 1,
          "output_type": "execute_result",
          "data": {
            "text/plain": "'0b100111'"
          },
          "metadata": {}
        }
      ]
    },
    {
      "cell_type": "code",
      "source": "\n# decimal to binary decToBinary(n)\ndef decToBinary(n):\n\n    binaryNum = [0] * n;\n    i = 0;\n    while (n > 0):\n \n        binaryNum[i] = n % 2;\n        n = int(n / 2);\n        i += 1;\n \n    # printing binary array\n    # in reverse order\n    for j in range(i - 1, -1, -1):\n        print(binaryNum[j], end = \"\");\n \nn= 39;\ndecToBinary(n);\n\n",
      "metadata": {
        "trusted": true
      },
      "execution_count": 2,
      "outputs": [
        {
          "name": "stdout",
          "text": "100111",
          "output_type": "stream"
        }
      ]
    },
    {
      "cell_type": "code",
      "source": "bin(128)",
      "metadata": {
        "trusted": true
      },
      "execution_count": 3,
      "outputs": [
        {
          "execution_count": 3,
          "output_type": "execute_result",
          "data": {
            "text/plain": "'0b10000000'"
          },
          "metadata": {}
        }
      ]
    },
    {
      "cell_type": "code",
      "source": "decToBinary(128);\n",
      "metadata": {
        "trusted": true
      },
      "execution_count": 4,
      "outputs": [
        {
          "name": "stdout",
          "text": "10000000",
          "output_type": "stream"
        }
      ]
    },
    {
      "cell_type": "markdown",
      "source": "#9.2 Floating Point Numbers",
      "metadata": {}
    },
    {
      "cell_type": "code",
      "source": "import sys\nsys.float_info",
      "metadata": {
        "trusted": true
      },
      "execution_count": 5,
      "outputs": [
        {
          "execution_count": 5,
          "output_type": "execute_result",
          "data": {
            "text/plain": "sys.float_info(max=1.7976931348623157e+308, max_exp=1024, max_10_exp=308, min=2.2250738585072014e-308, min_exp=-1021, min_10_exp=-307, dig=15, mant_dig=53, epsilon=2.220446049250313e-16, radix=2, rounds=1)"
          },
          "metadata": {}
        }
      ]
    },
    {
      "cell_type": "code",
      "source": "import numpy as np\nnp.spacing(1e69)\n1e69 == (1e69 + np.spacing(1e69)/3)\n\n\n",
      "metadata": {
        "trusted": true
      },
      "execution_count": 6,
      "outputs": [
        {
          "execution_count": 6,
          "output_type": "execute_result",
          "data": {
            "text/plain": "True"
          },
          "metadata": {}
        }
      ]
    },
    {
      "cell_type": "code",
      "source": "largest = (2**(2046-1023))*((1 + sum(0.5**np.arange(1, 53))))\nlargest\n",
      "metadata": {
        "trusted": true
      },
      "execution_count": 7,
      "outputs": [
        {
          "execution_count": 7,
          "output_type": "execute_result",
          "data": {
            "text/plain": "1.7976931348623157e+308"
          },
          "metadata": {}
        }
      ]
    },
    {
      "cell_type": "code",
      "source": "largest==sys.float_info.max\n",
      "metadata": {
        "trusted": true
      },
      "execution_count": 8,
      "outputs": [
        {
          "execution_count": 8,
          "output_type": "execute_result",
          "data": {
            "text/plain": "True"
          },
          "metadata": {}
        }
      ]
    },
    {
      "cell_type": "code",
      "source": "sys.float_info.max + 2 == sys.float_info.max\n",
      "metadata": {
        "trusted": true
      },
      "execution_count": 9,
      "outputs": [
        {
          "execution_count": 9,
          "output_type": "execute_result",
          "data": {
            "text/plain": "True"
          },
          "metadata": {}
        }
      ]
    },
    {
      "cell_type": "code",
      "source": "sys.float_info.max + sys.float_info.max\n",
      "metadata": {
        "trusted": true
      },
      "execution_count": 10,
      "outputs": [
        {
          "execution_count": 10,
          "output_type": "execute_result",
          "data": {
            "text/plain": "inf"
          },
          "metadata": {}
        }
      ]
    },
    {
      "cell_type": "code",
      "source": "2**(-1075)==0\n",
      "metadata": {
        "trusted": true
      },
      "execution_count": 11,
      "outputs": [
        {
          "execution_count": 11,
          "output_type": "execute_result",
          "data": {
            "text/plain": "True"
          },
          "metadata": {}
        }
      ]
    },
    {
      "cell_type": "code",
      "source": "2**(-1074)==0\n",
      "metadata": {
        "trusted": true
      },
      "execution_count": 12,
      "outputs": [
        {
          "execution_count": 12,
          "output_type": "execute_result",
          "data": {
            "text/plain": "False"
          },
          "metadata": {}
        }
      ]
    },
    {
      "cell_type": "markdown",
      "source": "#9.3 Round-off Errors\n\n\n\n",
      "metadata": {}
    },
    {
      "cell_type": "code",
      "source": "#The most common form round-off error is the representation error in the floating point numbers.\n#When we rounding the numbers multiple times, the error will accumulate. \n",
      "metadata": {
        "trusted": true
      },
      "execution_count": 13,
      "outputs": []
    },
    {
      "cell_type": "code",
      "source": "0.1 + 0.2 + 0.3 == 0.6 \n#round off error \n",
      "metadata": {
        "trusted": true
      },
      "execution_count": 14,
      "outputs": [
        {
          "execution_count": 14,
          "output_type": "execute_result",
          "data": {
            "text/plain": "False"
          },
          "metadata": {}
        }
      ]
    },
    {
      "cell_type": "code",
      "source": "round(0.1 + 0.2 + 0.3, 5)  == round(0.6, 5)\n",
      "metadata": {
        "trusted": true
      },
      "execution_count": 15,
      "outputs": [
        {
          "execution_count": 15,
          "output_type": "execute_result",
          "data": {
            "text/plain": "True"
          },
          "metadata": {}
        }
      ]
    },
    {
      "cell_type": "code",
      "source": "# If we only do once\n3 + 2/3 - 2/3",
      "metadata": {
        "trusted": true
      },
      "execution_count": 16,
      "outputs": [
        {
          "execution_count": 16,
          "output_type": "execute_result",
          "data": {
            "text/plain": "3.0"
          },
          "metadata": {}
        }
      ]
    },
    {
      "cell_type": "code",
      "source": "def add_and_subtract(iterations):\n    result = 3\n    \n    for i in range(iterations):\n        result += 2/3\n\n    for i in range(iterations):\n        result -= 2/3\n    return result",
      "metadata": {
        "trusted": true
      },
      "execution_count": 17,
      "outputs": []
    },
    {
      "cell_type": "code",
      "source": "# If we do this 10 times\nadd_and_subtract(10)\n",
      "metadata": {
        "trusted": true
      },
      "execution_count": 18,
      "outputs": [
        {
          "execution_count": 18,
          "output_type": "execute_result",
          "data": {
            "text/plain": "2.999999999999999"
          },
          "metadata": {}
        }
      ]
    },
    {
      "cell_type": "code",
      "source": "# If we do this 100 times\nadd_and_subtract(100)\n",
      "metadata": {
        "trusted": true
      },
      "execution_count": 19,
      "outputs": [
        {
          "execution_count": 19,
          "output_type": "execute_result",
          "data": {
            "text/plain": "3.000000000000001"
          },
          "metadata": {}
        }
      ]
    },
    {
      "cell_type": "code",
      "source": "# If we do this 1000 times\nadd_and_subtract(1000)\n",
      "metadata": {
        "trusted": true
      },
      "execution_count": 20,
      "outputs": [
        {
          "execution_count": 20,
          "output_type": "execute_result",
          "data": {
            "text/plain": "3.000000000000015"
          },
          "metadata": {}
        }
      ]
    }
  ]
}
