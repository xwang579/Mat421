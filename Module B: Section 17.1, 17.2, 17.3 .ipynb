{
  "nbformat": 4,
  "nbformat_minor": 0,
  "metadata": {
    "colab": {
      "provenance": [],
      "authorship_tag": "ABX9TyOPWjE+5j1NVlaGpzdPhajF",
      "include_colab_link": true
    },
    "kernelspec": {
      "name": "python3",
      "display_name": "Python 3"
    },
    "language_info": {
      "name": "python"
    }
  },
  "cells": [
    {
      "cell_type": "markdown",
      "metadata": {
        "id": "view-in-github",
        "colab_type": "text"
      },
      "source": [
        "<a href=\"https://colab.research.google.com/github/xwang579/Mat421/blob/main/Module%20B%3A%20Section%2017.1%2C%2017.2%2C%2017.3%20.ipynb\" target=\"_parent\"><img src=\"https://colab.research.google.com/assets/colab-badge.svg\" alt=\"Open In Colab\"/></a>"
      ]
    },
    {
      "cell_type": "markdown",
      "source": [
        "17.1 Interpolation Problem Statement"
      ],
      "metadata": {
        "id": "0UwxwqU28Msk"
      }
    },
    {
      "cell_type": "code",
      "source": [
        "from scipy.interpolate import interp1d\n",
        "import matplotlib.pyplot as plt\n",
        "\n",
        "plt.style.use('seaborn-poster')"
      ],
      "metadata": {
        "id": "NpQi9o5W8O1j"
      },
      "execution_count": 13,
      "outputs": []
    },
    {
      "cell_type": "code",
      "source": [
        "x = [0, 4,6,7]\n",
        "y = [1, 2,5,9]\n",
        "plt.figure(figsize = (10,8))\n",
        "\n",
        "plt.plot(x, y, 'o')\n",
        "plt.plot(5,3, 'ro')\n",
        "\n",
        "\n",
        "plt.title('Interpolation')\n",
        "plt.xlabel('x')\n",
        "plt.ylabel('y')\n",
        "plt.show()"
      ],
      "metadata": {
        "colab": {
          "base_uri": "https://localhost:8080/",
          "height": 538
        },
        "id": "UR-rZ53_-F5v",
        "outputId": "7c104131-78fa-4c75-b235-6a0b9560a1a5"
      },
      "execution_count": 21,
      "outputs": [
        {
          "output_type": "display_data",
          "data": {
            "text/plain": [
              "<Figure size 720x576 with 1 Axes>"
            ],
            "image/png": "[encoded data removed]"
          },
          "metadata": {
            "needs_background": "light"
          }
        }
      ]
    },
    {
      "cell_type": "markdown",
      "source": [
        "Find the linear interpolation at 𝑥=5\n",
        " based on the data x = [0,4,9], y = [1,4,2]. "
      ],
      "metadata": {
        "id": "74kVQZQy9RYH"
      }
    },
    {
      "cell_type": "code",
      "source": [
        "x = [0, 4, 9]\n",
        "y = [1, 4, 2]\n",
        "\n",
        "f = interp1d(x, y)\n",
        "y_hat = f(5)\n",
        "print(y_hat)"
      ],
      "metadata": {
        "colab": {
          "base_uri": "https://localhost:8080/"
        },
        "id": "6IBEGpET8PFx",
        "outputId": "15a8349c-a552-46bb-92fc-86a2dd980f7b"
      },
      "execution_count": 3,
      "outputs": [
        {
          "output_type": "stream",
          "name": "stdout",
          "text": [
            "3.6\n"
          ]
        }
      ]
    },
    {
      "cell_type": "markdown",
      "source": [
        "17.2 Linear Interpolation"
      ],
      "metadata": {
        "id": "Q4WMOV3z8PYh"
      }
    },
    {
      "cell_type": "code",
      "source": [
        "plt.figure(figsize = (5,5))\n",
        "plt.plot(x, y, '-ob')\n",
        "plt.plot(5, y_hat, 'ro')\n",
        "plt.title('Linear Interpolation at x = 5')\n",
        "plt.xlabel('x')\n",
        "plt.ylabel('y')\n",
        "plt.show()"
      ],
      "metadata": {
        "colab": {
          "base_uri": "https://localhost:8080/",
          "height": 375
        },
        "id": "td7Lr7YZ8Ppe",
        "outputId": "53adaf21-1061-4b1e-9ad2-60565fa48607"
      },
      "execution_count": 6,
      "outputs": [
        {
          "output_type": "display_data",
          "data": {
            "text/plain": [
              "<Figure size 360x360 with 1 Axes>"
            ],
            "image/png": "[encoded data removed]"
          },
          "metadata": {
            "needs_background": "light"
          }
        }
      ]
    },
    {
      "cell_type": "code",
      "source": [],
      "metadata": {
        "id": "Gu9vPzVx8Pzh"
      },
      "execution_count": null,
      "outputs": []
    },
    {
      "cell_type": "markdown",
      "source": [
        "17.3 Cubic Spline Interpolation"
      ],
      "metadata": {
        "id": "87qwPLMD8P_-"
      }
    },
    {
      "cell_type": "code",
      "source": [],
      "metadata": {
        "id": "md6roK_E8QTE"
      },
      "execution_count": null,
      "outputs": []
    },
    {
      "cell_type": "code",
      "source": [],
      "metadata": {
        "id": "uVZWyGE68QZy"
      },
      "execution_count": null,
      "outputs": []
    }
  ]
}